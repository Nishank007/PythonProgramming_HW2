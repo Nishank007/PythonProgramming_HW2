{
 "cells": [
  {
   "cell_type": "markdown",
   "metadata": {},
   "source": [
    "# Question 1(10 points) :\n",
    "\n",
    "<B>“Rock-paper-scissors is a hand game that is played by two people. \n",
    "The players count to three in unison and simultaneously \"throw\" one of three \n",
    "hand signals that correspond to rock, paper or scissors. The winner is \n",
    "determined by the rules: <br>\n",
    "1. Rock smashes scissors<br>\n",
    "2. Scissors cuts paper<br>\n",
    "3. Paper covers rock\n",
    "<br>\n",
    "Rock-paper-scissors is a surprisingly popular game that many people play \n",
    "seriously (see the Wikipedia article for details).<br>\n",
    "Write a Python program to ask the user’s choice of Rock paper scissors. The \n",
    "program then, randomly, chooses a choice for itself (the computer) and then \n",
    "compares it with the user’s choice. The final output should show, the user’s \n",
    "choice, the program’s choice and the winner.</B>.\n",
    "<br>\n",
    "\n",
    "#### -> Enter rock, paper or scissors. If incorrect choice, show error.\n",
    "\n",
    "#### -> if user selects the same choice as computer, user and computer tie!\n",
    "\n",
    "#### -> If user selects rock & computer selects scissors OR If user selects paper & computer selects rock OR If user selects scissors & computer selects paper, the user wins!\n",
    "\n",
    "#### -> If computer selects any other choices than above, computer wins!"
   ]
  },
  {
   "cell_type": "code",
   "execution_count": 31,
   "metadata": {},
   "outputs": [
    {
     "name": "stdout",
     "output_type": "stream",
     "text": [
      "Enter your choice: rock\n",
      "Computer chooses scissors\n",
      "You, the user, win!\n"
     ]
    }
   ],
   "source": [
    "import random # for randomization\n",
    "\n",
    "while True:\n",
    "    x = input(\"Enter your choice: \") # checking if entered choice is valid or not\n",
    "    if x == \"rock\" or x == \"paper\" or x == \"scissors\":\n",
    "        break\n",
    "    else:\n",
    "        print(\"Incorrect Choice!\")\n",
    "        continue\n",
    "        \n",
    "y = [\"rock\", \"paper\", \"scissors\"]\n",
    "z = random.choice(y) # randomize\n",
    "print(\"Computer chooses\",z)\n",
    "if x == z: # if tie\n",
    "    print(\"User and computer tie!\")\n",
    "elif x == \"rock\" and z == \"scissors\": # user wins\n",
    "    print(\"You, the user, win!\")\n",
    "elif x == \"paper\" and z == \"rock\": # user wins\n",
    "    print(\"You, the user, win!\")\n",
    "elif x == \"scissors\" and z == \"paper\": # user wins\n",
    "    print(\"You, the user, win!\")\n",
    "else:\n",
    "    print(\"I, the computer, win!\") # computer wins"
   ]
  },
  {
   "cell_type": "markdown",
   "metadata": {},
   "source": [
    "# Question 2(10 points) :\n",
    "\n",
    "<B>Write a program where the user and the program/computer trade \n",
    "places in the number guessing game. Prompt the user for a number (between 1 \n",
    "and 100, inclusive) that the program/computer has to guess. Keep track of the \n",
    "number of iterations it takes for the computer to guess the number. Sample \n",
    "runs are shown below:</B>\n",
    "<br>\n",
    "\n",
    "#### -> Ask user to guess a number from 1 to 100 (inclusive). Show error if entered any other number.\n",
    "\n",
    "#### -> Count the number of iterations the program takes to randomly guess the user entered number.\n",
    "\n",
    "#### -> Show the guessed number & the number of iterations the program took to guess it."
   ]
  },
  {
   "cell_type": "code",
   "execution_count": 10,
   "metadata": {},
   "outputs": [
    {
     "name": "stdout",
     "output_type": "stream",
     "text": [
      "Enter number to be guessed: 88\n",
      "You guessed 88 , and it took the program 33 iterations\n"
     ]
    }
   ],
   "source": [
    "import random # for randomization\n",
    "\n",
    "while True:\n",
    "    x = input(\"Enter number to be guessed: \") # checking if entered choice is valid or not\n",
    "    x = int(x)\n",
    "    if x <= 100 and x >= 1:\n",
    "        break\n",
    "    else:\n",
    "        print(\"Error: You did not enter a number between 1 and 100\")\n",
    "        continue\n",
    "for i in range(100): #count of iterations\n",
    "    y = random.randint(1, 100) # randomize numbers from 1 to 100\n",
    "    if x==y: #end loop when the random number is equal to the guessed number\n",
    "        break\n",
    "    else:\n",
    "        continue    \n",
    "print(\"You guessed\",x,\", and it took the program\",i,\"iterations\")"
   ]
  },
  {
   "cell_type": "markdown",
   "metadata": {},
   "source": [
    "# Question 3(10 points):\n",
    "\n",
    "<B>Write a function that accepts a line of text and a single letter as \n",
    "input and returns the number of times the letter is the first character of a word </B>\n",
    "<br>\n",
    "\n",
    "#### -> Ask user to enter the line of text & the letter they want to find.\n",
    "\n",
    "#### -> Split the text into single words\n",
    "\n",
    "#### -> Initialize count as 0 & search for 1 first letter of each word.\n",
    "\n",
    "#### -> Print the count of the letter appearing in the text."
   ]
  },
  {
   "cell_type": "code",
   "execution_count": 7,
   "metadata": {
    "scrolled": true
   },
   "outputs": [
    {
     "name": "stdout",
     "output_type": "stream",
     "text": [
      "Enter your line of text:Where the mind is without fear and the head is held  high\n",
      "Enter your letter to use:h\n",
      "Your letter h occurs as the first letter: 3 times.\n"
     ]
    }
   ],
   "source": [
    "x = input(\"Enter your line of text:\").lower() # enter the text\n",
    "while True:\n",
    "    y = input(\"Enter your letter to use:\").lower() # enter the letter to be found\n",
    "    if len(y) == 1:\n",
    "        break\n",
    "\n",
    "while True:\n",
    "    try:\n",
    "        y_list = [i for i in x.split()] #seperate the text into single words\n",
    "        count = 0\n",
    "        for z in y_list: \n",
    "            if (z[0]==y): # checks for first letters in the word\n",
    "                count+=1 # add count to everytime the letter occurs in the text\n",
    "        print(\"Your letter\",y,\"occurs as the first letter:\",count,\"times.\")\n",
    "        break\n",
    "    except:\n",
    "        print(\"Error!\") # show error if text is not splitable"
   ]
  },
  {
   "cell_type": "markdown",
   "metadata": {},
   "source": [
    "# Question 4(10 points):\n",
    "\n",
    "<B>A palindrome is string that reads the same forwards and \n",
    "backwards. Write a Python program that reads in a string and determines \n",
    "whether the string is a palindrome or not. Note that a sentence that reads the \n",
    "same forwards and backwards by resequencing the spaces is also a palindrome \n",
    "and your program should consider this.</B>\n",
    "<br>\n",
    "\n",
    "#### -> Ask user to enter a string.\n",
    "\n",
    "#### -> Compare the lower characters to the higher characters.\n",
    "\n",
    "#### -> Return False if lower character is not equal to higher character.\n",
    "\n",
    "#### -> Return True if equal & print its a palindrome."
   ]
  },
  {
   "cell_type": "code",
   "execution_count": 1,
   "metadata": {
    "scrolled": true
   },
   "outputs": [
    {
     "name": "stdout",
     "output_type": "stream",
     "text": [
      "Enter a string:A nut for a jar of tuna\n",
      "a nut for a jar of tuna ,is a palindrome\n"
     ]
    }
   ],
   "source": [
    "x = input(\"Enter a string:\") # ask for string\n",
    "l, h = 0, len(x) - 1\n",
    "x = x.lower() # convert into lowercase\n",
    "while (l <= h): # lower is equal to higher\n",
    "    if (not(x[l] >= 'a' and x[l] <= 'z')): \n",
    "        l += 1 # increment lower pointer\n",
    "    elif (not(x[h] >= 'a' and x[h] <= 'z')): # \n",
    "        h -= 1 # decrement higher pointer\n",
    "    elif (x[l] == x[h]): # if equal, return True\n",
    "        l += 1\n",
    "        h -= 1\n",
    "    else:\n",
    "        print(x,\",is not a palindrome\")\n",
    "print(x,\",is a palindrome\")"
   ]
  },
  {
   "cell_type": "markdown",
   "metadata": {},
   "source": [
    "# Question 5(10 points):\n",
    "\n",
    "<B>Write a program to request a file name from the user and calculate \n",
    "the following statistics of the contents of the file:<br>\n",
    "1. Number of lines<br>\n",
    "2. Number of words<br>\n",
    "3. Number of characters<br>\n",
    "4. Average length of a word<br>\n",
    "In this problem use the following definitions:<br>\n",
    "A line is a sequence of characters that end with a newline (\\n) character<br>\n",
    "A word bounded by one or more spaces (or \\n) on either side of it (or both \n",
    "sides)<br>\n",
    "A character is any single length string, e.g. ‘a’, ‘-‘, etc. but not a space (or \n",
    "white space)</B>\n",
    "<br>\n",
    "\n",
    "#### -> Ask user for the filename & open file as read only.\n",
    "\n",
    "#### -> Increment the line count, everytime a newline ('\\n') is detected.\n",
    "\n",
    "#### -> Increment word count, everytime a word is detected followed by a space.\n",
    "\n",
    "#### -> Increment character count for every letter untill a space or newline is detected.\n",
    "\n",
    "#### -> Average length of a word is number of characters/number of words.\n",
    "\n",
    "#### -> Print number of lines, words, characters & average length of a word in the entire document."
   ]
  },
  {
   "cell_type": "code",
   "execution_count": 23,
   "metadata": {},
   "outputs": [
    {
     "name": "stdout",
     "output_type": "stream",
     "text": [
      "What is the filename:RobertFrost.txt\n",
      "Number of lines: 4\n",
      "Number of words: 27\n",
      "Number of characters: 103\n",
      "Average length of a word: 3.8\n"
     ]
    }
   ],
   "source": [
    "file = input(\"What is the filename:\") # Ask user for filename\n",
    "\n",
    "try:\n",
    "    numWords = 0 # initialize wordcount as 0\n",
    "    numLines = 0 # initialize linecount as 0\n",
    "    numChar = 0 # initialize number of characters as 0\n",
    "   \n",
    "    with open(file, 'r') as f: # open file as read only\n",
    "        \n",
    "        for line in f:\n",
    "            numLines += 1 # increment linecount everytime a newline is detected\n",
    "            word = 'A' # declaring variable 'A'\n",
    "            \n",
    "            for letter in line:\n",
    "                if (letter != ' ' and word == 'A'): \n",
    "                    numWords += 1 # increment wordcount when a space is detected after a word\n",
    "                    word = 'B' # declaring variable 'B'\n",
    "                    \n",
    "                elif (letter == ' '):\n",
    "                    word = 'A' # declaring variable 'A'  \n",
    "                    \n",
    "                for i in letter:\n",
    "                    if(i !=\" \" and i !=\"\\n\"):\n",
    "                        numChar += 1 # increment number of characters for every letter until a space or newline is detected\n",
    "                        \n",
    "    avgLen=round((numChar/numWords),1) # average length of a word is number of character by number of words\n",
    "    \n",
    "    print(\"Number of lines:\", numLines) # display line count\n",
    "    print(\"Number of words:\", numWords) # display word count\n",
    "    print(\"Number of characters:\", numChar) # display number of characters     \n",
    "    print(\"Average length of a word:\",avgLen) # display average length\n",
    "    \n",
    "except: \n",
    "    print(\"File not found!\") # error if file not found"
   ]
  }
 ],
 "metadata": {
  "interpreter": {
   "hash": "63fd5069d213b44bf678585dea6b12cceca9941eaf7f819626cde1f2670de90d"
  },
  "kernelspec": {
   "display_name": "Python 3",
   "language": "python",
   "name": "python3"
  },
  "language_info": {
   "codemirror_mode": {
    "name": "ipython",
    "version": 3
   },
   "file_extension": ".py",
   "mimetype": "text/x-python",
   "name": "python",
   "nbconvert_exporter": "python",
   "pygments_lexer": "ipython3",
   "version": "3.8.8"
  }
 },
 "nbformat": 4,
 "nbformat_minor": 4
}
